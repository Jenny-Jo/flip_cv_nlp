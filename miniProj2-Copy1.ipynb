{
 "cells": [
  {
   "cell_type": "markdown",
   "metadata": {},
   "source": [
    "# 성별, 웃음여부  동시에 판단하는 모델"
   ]
  },
  {
   "cell_type": "code",
   "execution_count": 1,
   "metadata": {},
   "outputs": [],
   "source": [
    "import tensorflow as tf\n",
    "from tensorflow import keras\n",
    "from keras.layers import Dense\n",
    "from keras.models import Sequential\n",
    "\n",
    "import pandas as pd\n",
    "import numpy as np\n",
    "import matplotlib.pyplot as plt\n",
    "import seaborn as sns\n",
    "import warnings\n",
    "\n",
    "warnings.filterwarnings('ignore')\n",
    "%matplotlib inline\n",
    "\n",
    "SEED = 34\n"
   ]
  },
  {
   "cell_type": "markdown",
   "metadata": {},
   "source": [
    "# tfds 로 데이터셋 사용하기"
   ]
  },
  {
   "cell_type": "code",
   "execution_count": 2,
   "metadata": {},
   "outputs": [],
   "source": [
    "import tensorflow_datasets as tfds"
   ]
  },
  {
   "cell_type": "code",
   "execution_count": 3,
   "metadata": {},
   "outputs": [
    {
     "data": {
      "text/plain": [
       "['abstract_reasoning',\n",
       " 'accentdb',\n",
       " 'aeslc',\n",
       " 'aflw2k3d',\n",
       " 'ag_news_subset',\n",
       " 'ai2_arc',\n",
       " 'ai2_arc_with_ir',\n",
       " 'amazon_us_reviews',\n",
       " 'anli',\n",
       " 'arc',\n",
       " 'bair_robot_pushing_small',\n",
       " 'bccd',\n",
       " 'beans',\n",
       " 'big_patent',\n",
       " 'bigearthnet',\n",
       " 'billsum',\n",
       " 'binarized_mnist',\n",
       " 'binary_alpha_digits',\n",
       " 'blimp',\n",
       " 'bool_q',\n",
       " 'c4',\n",
       " 'caltech101',\n",
       " 'caltech_birds2010',\n",
       " 'caltech_birds2011',\n",
       " 'cars196',\n",
       " 'cassava',\n",
       " 'cats_vs_dogs',\n",
       " 'celeb_a',\n",
       " 'celeb_a_hq',\n",
       " 'cfq',\n",
       " 'cherry_blossoms',\n",
       " 'chexpert',\n",
       " 'cifar10',\n",
       " 'cifar100',\n",
       " 'cifar10_1',\n",
       " 'cifar10_corrupted',\n",
       " 'citrus_leaves',\n",
       " 'cityscapes',\n",
       " 'civil_comments',\n",
       " 'clevr',\n",
       " 'clic',\n",
       " 'clinc_oos',\n",
       " 'cmaterdb',\n",
       " 'cnn_dailymail',\n",
       " 'coco',\n",
       " 'coco_captions',\n",
       " 'coil100',\n",
       " 'colorectal_histology',\n",
       " 'colorectal_histology_large',\n",
       " 'common_voice',\n",
       " 'coqa',\n",
       " 'cos_e',\n",
       " 'cosmos_qa',\n",
       " 'covid19sum',\n",
       " 'crema_d',\n",
       " 'curated_breast_imaging_ddsm',\n",
       " 'cycle_gan',\n",
       " 'dart',\n",
       " 'davis',\n",
       " 'deep_weeds',\n",
       " 'definite_pronoun_resolution',\n",
       " 'dementiabank',\n",
       " 'diabetic_retinopathy_detection',\n",
       " 'div2k',\n",
       " 'dmlab',\n",
       " 'downsampled_imagenet',\n",
       " 'drop',\n",
       " 'dsprites',\n",
       " 'dtd',\n",
       " 'duke_ultrasound',\n",
       " 'e2e_cleaned',\n",
       " 'emnist',\n",
       " 'eraser_multi_rc',\n",
       " 'esnli',\n",
       " 'eurosat',\n",
       " 'fashion_mnist',\n",
       " 'flic',\n",
       " 'flores',\n",
       " 'food101',\n",
       " 'forest_fires',\n",
       " 'fuss',\n",
       " 'gap',\n",
       " 'geirhos_conflict_stimuli',\n",
       " 'genomics_ood',\n",
       " 'german_credit_numeric',\n",
       " 'gigaword',\n",
       " 'glue',\n",
       " 'goemotions',\n",
       " 'gpt3',\n",
       " 'groove',\n",
       " 'gtzan',\n",
       " 'gtzan_music_speech',\n",
       " 'hellaswag',\n",
       " 'higgs',\n",
       " 'horses_or_humans',\n",
       " 'howell',\n",
       " 'i_naturalist2017',\n",
       " 'imagenet2012',\n",
       " 'imagenet2012_corrupted',\n",
       " 'imagenet2012_real',\n",
       " 'imagenet2012_subset',\n",
       " 'imagenet_a',\n",
       " 'imagenet_r',\n",
       " 'imagenet_resized',\n",
       " 'imagenet_v2',\n",
       " 'imagenette',\n",
       " 'imagewang',\n",
       " 'imdb_reviews',\n",
       " 'irc_disentanglement',\n",
       " 'iris',\n",
       " 'kitti',\n",
       " 'kmnist',\n",
       " 'lambada',\n",
       " 'lfw',\n",
       " 'librispeech',\n",
       " 'librispeech_lm',\n",
       " 'libritts',\n",
       " 'ljspeech',\n",
       " 'lm1b',\n",
       " 'lost_and_found',\n",
       " 'lsun',\n",
       " 'lvis',\n",
       " 'malaria',\n",
       " 'math_dataset',\n",
       " 'mctaco',\n",
       " 'mlqa',\n",
       " 'mnist',\n",
       " 'mnist_corrupted',\n",
       " 'movie_lens',\n",
       " 'movie_rationales',\n",
       " 'movielens',\n",
       " 'moving_mnist',\n",
       " 'multi_news',\n",
       " 'multi_nli',\n",
       " 'multi_nli_mismatch',\n",
       " 'natural_questions',\n",
       " 'natural_questions_open',\n",
       " 'newsroom',\n",
       " 'nsynth',\n",
       " 'nyu_depth_v2',\n",
       " 'omniglot',\n",
       " 'open_images_challenge2019_detection',\n",
       " 'open_images_v4',\n",
       " 'openbookqa',\n",
       " 'opinion_abstracts',\n",
       " 'opinosis',\n",
       " 'opus',\n",
       " 'oxford_flowers102',\n",
       " 'oxford_iiit_pet',\n",
       " 'para_crawl',\n",
       " 'patch_camelyon',\n",
       " 'paws_wiki',\n",
       " 'paws_x_wiki',\n",
       " 'pet_finder',\n",
       " 'pg19',\n",
       " 'piqa',\n",
       " 'places365_small',\n",
       " 'plant_leaves',\n",
       " 'plant_village',\n",
       " 'plantae_k',\n",
       " 'qa4mre',\n",
       " 'qasc',\n",
       " 'quac',\n",
       " 'quickdraw_bitmap',\n",
       " 'race',\n",
       " 'radon',\n",
       " 'reddit',\n",
       " 'reddit_disentanglement',\n",
       " 'reddit_tifu',\n",
       " 'resisc45',\n",
       " 'robonet',\n",
       " 'rock_paper_scissors',\n",
       " 'rock_you',\n",
       " 's3o4d',\n",
       " 'salient_span_wikipedia',\n",
       " 'samsum',\n",
       " 'savee',\n",
       " 'scan',\n",
       " 'scene_parse150',\n",
       " 'scicite',\n",
       " 'scientific_papers',\n",
       " 'sentiment140',\n",
       " 'shapes3d',\n",
       " 'siscore',\n",
       " 'smallnorb',\n",
       " 'snli',\n",
       " 'so2sat',\n",
       " 'speech_commands',\n",
       " 'spoken_digit',\n",
       " 'squad',\n",
       " 'stanford_dogs',\n",
       " 'stanford_online_products',\n",
       " 'starcraft_video',\n",
       " 'stl10',\n",
       " 'story_cloze',\n",
       " 'sun397',\n",
       " 'super_glue',\n",
       " 'svhn_cropped',\n",
       " 'ted_hrlr_translate',\n",
       " 'ted_multi_translate',\n",
       " 'tedlium',\n",
       " 'tf_flowers',\n",
       " 'the300w_lp',\n",
       " 'tiny_shakespeare',\n",
       " 'titanic',\n",
       " 'trec',\n",
       " 'trivia_qa',\n",
       " 'tydi_qa',\n",
       " 'uc_merced',\n",
       " 'ucf101',\n",
       " 'vctk',\n",
       " 'vgg_face2',\n",
       " 'visual_domain_decathlon',\n",
       " 'voc',\n",
       " 'voxceleb',\n",
       " 'voxforge',\n",
       " 'waymo_open_dataset',\n",
       " 'web_nlg',\n",
       " 'web_questions',\n",
       " 'wider_face',\n",
       " 'wiki40b',\n",
       " 'wiki_bio',\n",
       " 'wiki_table_questions',\n",
       " 'wiki_table_text',\n",
       " 'wikihow',\n",
       " 'wikipedia',\n",
       " 'wikipedia_toxicity_subtypes',\n",
       " 'wine_quality',\n",
       " 'winogrande',\n",
       " 'wmt14_translate',\n",
       " 'wmt15_translate',\n",
       " 'wmt16_translate',\n",
       " 'wmt17_translate',\n",
       " 'wmt18_translate',\n",
       " 'wmt19_translate',\n",
       " 'wmt_t2t_translate',\n",
       " 'wmt_translate',\n",
       " 'wordnet',\n",
       " 'wsc273',\n",
       " 'xnli',\n",
       " 'xquad',\n",
       " 'xsum',\n",
       " 'xtreme_pawsx',\n",
       " 'xtreme_xnli',\n",
       " 'yelp_polarity_reviews',\n",
       " 'yes_no']"
      ]
     },
     "execution_count": 3,
     "metadata": {},
     "output_type": "execute_result"
    }
   ],
   "source": [
    "tfds.list_builders()"
   ]
  },
  {
   "cell_type": "code",
   "execution_count": null,
   "metadata": {
    "scrolled": true
   },
   "outputs": [
    {
     "name": "stdout",
     "output_type": "stream",
     "text": [
      "\u001b[1mDownloading and preparing dataset 1.38 GiB (download: 1.38 GiB, generated: 1.62 GiB, total: 3.00 GiB) to /home/aiffel/tensorflow_datasets/celeb_a/2.0.1...\u001b[0m\n"
     ]
    },
    {
     "data": {
      "application/vnd.jupyter.widget-view+json": {
       "model_id": "3ace5d8f321e4d9bbbad9af4f36a568b",
       "version_major": 2,
       "version_minor": 0
      },
      "text/plain": [
       "Dl Completed...: |          | 0/0 [00:00<?, ? url/s]"
      ]
     },
     "metadata": {},
     "output_type": "display_data"
    },
    {
     "data": {
      "application/vnd.jupyter.widget-view+json": {
       "model_id": "937328882e4f4729a786366bd478f014",
       "version_major": 2,
       "version_minor": 0
      },
      "text/plain": [
       "Dl Size...: |          | 0/0 [00:00<?, ? MiB/s]"
      ]
     },
     "metadata": {},
     "output_type": "display_data"
    },
    {
     "name": "stdout",
     "output_type": "stream",
     "text": [
      "\n",
      "\n"
     ]
    },
    {
     "data": {
      "application/vnd.jupyter.widget-view+json": {
       "model_id": "7dff23fb73944ed3a432a04059611ab7",
       "version_major": 2,
       "version_minor": 0
      },
      "text/plain": [
       "Generating splits...:   0%|          | 0/3 [00:00<?, ? splits/s]"
      ]
     },
     "metadata": {},
     "output_type": "display_data"
    },
    {
     "data": {
      "application/vnd.jupyter.widget-view+json": {
       "model_id": "347d7923766142a881ed01e3ce47a626",
       "version_major": 2,
       "version_minor": 0
      },
      "text/plain": [
       "Generating train examples...:   0%|          | 0/162770 [00:00<?, ? examples/s]"
      ]
     },
     "metadata": {},
     "output_type": "display_data"
    }
   ],
   "source": [
    "# celeb_a = tfds.load('celeb_a')\n",
    "# 다운 너무 오래 걸려서 작은 데이터셋으로 하자."
   ]
  },
  {
   "cell_type": "code",
   "execution_count": 4,
   "metadata": {},
   "outputs": [],
   "source": [
    "celeba_small = np.load('/home/aiffel/flip_cv_nlp/celeba_small.npz')\n",
    "x = celeba_small['train_images'][3]\n",
    "y = celeba_small['train_labels'][3]\n"
   ]
  },
  {
   "cell_type": "code",
   "execution_count": 6,
   "metadata": {},
   "outputs": [
    {
     "data": {
      "text/plain": [
       "((72, 59, 3), (2,))"
      ]
     },
     "execution_count": 6,
     "metadata": {},
     "output_type": "execute_result"
    }
   ],
   "source": [
    "x.shape, y.shape"
   ]
  },
  {
   "cell_type": "code",
   "execution_count": 11,
   "metadata": {},
   "outputs": [
    {
     "data": {
      "image/png": "[encoded data removed]",
      "text/plain": [
       "<Figure size 432x288 with 2 Axes>"
      ]
     },
     "metadata": {
      "needs_background": "light"
     },
     "output_type": "display_data"
    }
   ],
   "source": [
    "# x를 plt를 이용하여 출력하는 코드를 작성해보세요\n",
    "plt.imshow(x)\n",
    "plt.title(y)\n",
    "plt.colorbar()\n",
    "plt.show()"
   ]
  },
  {
   "cell_type": "code",
   "execution_count": 15,
   "metadata": {},
   "outputs": [],
   "source": [
    "# dtype을 이용하여 이미지의 np array type을 확인해보세요.\n",
    "# type(x)\n",
    "train_images = celeba_small['train_images']\n",
    "train_labels = celeba_small['train_labels']\n",
    "\n",
    "test_images = celeba_small['test_images']\n",
    "test_labels = celeba_small['test_labels']\n",
    "\n"
   ]
  },
  {
   "cell_type": "code",
   "execution_count": 16,
   "metadata": {
    "scrolled": true
   },
   "outputs": [
    {
     "data": {
      "text/plain": [
       "array([0.02352941, 0.04313725, 0.05490196, 0.01960784, 0.03921569,\n",
       "       0.05490196, 0.01977401, 0.03921569, 0.05114656, 0.02352941])"
      ]
     },
     "execution_count": 16,
     "metadata": {},
     "output_type": "execute_result"
    }
   ],
   "source": [
    "train_images[train_images !=0][:10]"
   ]
  },
  {
   "cell_type": "code",
   "execution_count": 17,
   "metadata": {},
   "outputs": [
    {
     "data": {
      "text/plain": [
       "dtype('float64')"
      ]
     },
     "execution_count": 17,
     "metadata": {},
     "output_type": "execute_result"
    }
   ],
   "source": [
    "train_images.dtype"
   ]
  },
  {
   "cell_type": "markdown",
   "metadata": {},
   "source": [
    "# step 2  전처리"
   ]
  },
  {
   "cell_type": "code",
   "execution_count": 25,
   "metadata": {},
   "outputs": [
    {
     "data": {
      "text/plain": [
       "((2000, 72, 59, 3), (2000, 2), (200, 72, 59, 3), (200, 2))"
      ]
     },
     "execution_count": 25,
     "metadata": {},
     "output_type": "execute_result"
    }
   ],
   "source": [
    "train_images.shape,train_labels.shape,  test_images.shape,test_labels.shape\n"
   ]
  },
  {
   "cell_type": "code",
   "execution_count": 27,
   "metadata": {},
   "outputs": [
    {
     "data": {
      "text/plain": [
       "(dtype('float64'), dtype('int8'), dtype('float64'), dtype('int8'))"
      ]
     },
     "execution_count": 27,
     "metadata": {},
     "output_type": "execute_result"
    }
   ],
   "source": [
    "train_images.dtype, train_labels.dtype, test_images.dtype , test_labels.dtype"
   ]
  },
  {
   "cell_type": "code",
   "execution_count": 33,
   "metadata": {},
   "outputs": [
    {
     "data": {
      "text/plain": [
       "(0.0, 0, 0.0, 0)"
      ]
     },
     "execution_count": 33,
     "metadata": {},
     "output_type": "execute_result"
    }
   ],
   "source": [
    "# images/labels 이미지 데이터의 최소/최대값을 출력\n",
    "train_images.min(), train_labels.min(), test_images.min() , test_labels.min()"
   ]
  },
  {
   "cell_type": "code",
   "execution_count": 31,
   "metadata": {
    "scrolled": true
   },
   "outputs": [
    {
     "data": {
      "text/plain": [
       "(1.0, 1, 1.0, 1)"
      ]
     },
     "execution_count": 31,
     "metadata": {},
     "output_type": "execute_result"
    }
   ],
   "source": [
    "train_images.max(), train_labels.max(), test_images.max() , test_labels.max()"
   ]
  },
  {
   "cell_type": "code",
   "execution_count": 37,
   "metadata": {},
   "outputs": [],
   "source": [
    "# (배치, 2)의 labels shape을 (배치, 1)의 shape의 2개의 array로 분리하는 코드를 추가하세요.\n",
    "from keras.utils import to_categorical"
   ]
  },
  {
   "cell_type": "code",
   "execution_count": 49,
   "metadata": {},
   "outputs": [
    {
     "name": "stdout",
     "output_type": "stream",
     "text": [
      "(2000, 1) (2000, 1)\n",
      "(200, 1) (200, 1)\n"
     ]
    }
   ],
   "source": [
    "train_male_labels, train_smile_labels = np.split(train_labels, 2, axis=1)\n",
    "print(train_male_labels.shape,train_smile_labels.shape)\n",
    "\n",
    "test_male_labels, test_smile_labels = np.split(test_labels, 2, axis=1)\n",
    "print(test_male_labels.shape,test_smile_labels.shape)\n"
   ]
  },
  {
   "cell_type": "code",
   "execution_count": 50,
   "metadata": {},
   "outputs": [
    {
     "data": {
      "text/plain": [
       "(array([0], dtype=int8), array([0], dtype=int8), array([0, 0], dtype=int8))"
      ]
     },
     "execution_count": 50,
     "metadata": {},
     "output_type": "execute_result"
    }
   ],
   "source": [
    "train_male_labels[0],train_smile_label[0], train_labels[0]"
   ]
  },
  {
   "cell_type": "code",
   "execution_count": 51,
   "metadata": {},
   "outputs": [],
   "source": [
    "train_male_labels = to_categorical(train_male_labels)\n",
    "train_smile_labels= to_categorical(train_smile_labels)\n",
    "test_male_labels = to_categorical(test_male_labels)\n",
    "test_smile_labels = to_categorical(test_smile_labels)"
   ]
  },
  {
   "cell_type": "code",
   "execution_count": 52,
   "metadata": {},
   "outputs": [
    {
     "data": {
      "text/plain": [
       "((2000, 2), (2000, 2))"
      ]
     },
     "execution_count": 52,
     "metadata": {},
     "output_type": "execute_result"
    }
   ],
   "source": [
    "train_male_labels.shape, train_smile_labels.shape"
   ]
  },
  {
   "cell_type": "code",
   "execution_count": 53,
   "metadata": {},
   "outputs": [
    {
     "data": {
      "text/plain": [
       "((200, 2), (200, 2))"
      ]
     },
     "execution_count": 53,
     "metadata": {},
     "output_type": "execute_result"
    }
   ],
   "source": [
    "test_male_labels.shape, test_smile_labels.shape"
   ]
  },
  {
   "cell_type": "markdown",
   "metadata": {},
   "source": [
    "### # (배치, 2), (배치, 2)의 labels를 (배치, 4)로 합치는 코드를 작성하세요.\n",
    "\n",
    "(배치, 남성여부, 웃음여부) => (배치, 남성여부), \n",
    "\n",
    "(배치, 웃음여부) => (배치, 여자여부, 남자여부), \n",
    "\n",
    "(배치, 안웃음여부, 웃음여부) => (배치, 여자여부, 남자여부, 안웃음여부, 웃음여부)\n"
   ]
  },
  {
   "cell_type": "code",
   "execution_count": 56,
   "metadata": {},
   "outputs": [
    {
     "data": {
      "text/plain": [
       "((200, 4), (2000, 4))"
      ]
     },
     "execution_count": 56,
     "metadata": {},
     "output_type": "execute_result"
    }
   ],
   "source": [
    "test_labels2 = np.concatenate((test_male_labels,test_smile_labels),axis=1)\n",
    "train_labels2 = np.concatenate((train_male_labels,train_smile_labels),axis=1)\n",
    "test_labels2.shape, train_labels2.shape"
   ]
  },
  {
   "cell_type": "code",
   "execution_count": 61,
   "metadata": {},
   "outputs": [
    {
     "data": {
      "text/plain": [
       "(5, 72, 59, 3)"
      ]
     },
     "execution_count": 61,
     "metadata": {},
     "output_type": "execute_result"
    }
   ],
   "source": [
    "# (배치, 세로, 가로, 3)인 train_images에서 (5, 세로, 가로, 3)을 획득하는 코드를 작성하세요.\n",
    "train_images[:5].shape"
   ]
  },
  {
   "cell_type": "code",
   "execution_count": 71,
   "metadata": {},
   "outputs": [
    {
     "data": {
      "text/plain": [
       "(72, 295, 3)"
      ]
     },
     "execution_count": 71,
     "metadata": {},
     "output_type": "execute_result"
    }
   ],
   "source": [
    "# transpose는 tensor의 axis를 섞는 기능을 합니다.\n",
    "# 해당 기능을 이용해서 (세로, 가로 * 5, 3)을 작성하는 코드를 작성해보세요.\n",
    "train_images[:5].transpose(1,0,2,3).reshape(72,-1,3).shape ## 뭔 말일까"
   ]
  },
  {
   "cell_type": "code",
   "execution_count": 73,
   "metadata": {},
   "outputs": [
    {
     "data": {
      "text/plain": [
       "<matplotlib.image.AxesImage at 0x7f6f0ba72050>"
      ]
     },
     "execution_count": 73,
     "metadata": {},
     "output_type": "execute_result"
    },
    {
     "data": {
      "image/png": "[encoded data removed]",
      "text/plain": [
       "<Figure size 432x288 with 1 Axes>"
      ]
     },
     "metadata": {
      "needs_background": "light"
     },
     "output_type": "display_data"
    }
   ],
   "source": [
    "# smile, male label을 5개 출력하는 코드를 작성해보세요.\n",
    "plt.imshow(train_images[:5].transpose(1,0,2,3).reshape(72,-1,3))"
   ]
  },
  {
   "cell_type": "code",
   "execution_count": 74,
   "metadata": {},
   "outputs": [
    {
     "name": "stdout",
     "output_type": "stream",
     "text": [
      "[1. 0.] [1. 0.]\n",
      "[0. 1.] [0. 1.]\n",
      "[0. 1.] [1. 0.]\n",
      "[0. 1.] [0. 1.]\n",
      "[0. 1.] [0. 1.]\n"
     ]
    }
   ],
   "source": [
    "for male, smile in zip(train_male_labels[:5], train_smile_labels[:5]):\n",
    "    print(male, smile)"
   ]
  },
  {
   "cell_type": "code",
   "execution_count": 116,
   "metadata": {},
   "outputs": [],
   "source": [
    "# input (배치, 72, 59, 3), output (배치, 2)을 처리할 수 있는 모양의 모델 2개를 작성하세요.\n",
    "from keras.models import Model\n",
    "from keras.layers import Conv2D, MaxPool2D, Input, Dense, Flatten\n",
    "\n",
    "def simple_model():\n",
    "    inputs = Input((72, 59, 3))\n",
    "    \n",
    "    x = Conv2D(32, 3, activation='relu')(inputs)\n",
    "    x = MaxPool2D(2)(x)\n",
    "    x = Conv2D(64, 3, activation = 'relu')(x)\n",
    "    x = MaxPool2D(2)(x)\n",
    "    x = Conv2D(64, 3, activation = 'relu')(x)\n",
    "    x = MaxPool2D(2)(x)\n",
    "    x = Flatten()(x)\n",
    "    x = Dense(64, activation = 'relu')(x)\n",
    "    ##\n",
    "    outputs = Dense(2, activation = 'softmax')(x)\n",
    "    \n",
    "    model = Model(inputs, outputs)\n",
    "    \n",
    "    return model\n",
    "\n",
    "    \n",
    "    "
   ]
  },
  {
   "cell_type": "code",
   "execution_count": 117,
   "metadata": {},
   "outputs": [],
   "source": [
    "gender_model = simple_model()\n",
    "smile_model = simple_model()"
   ]
  },
  {
   "cell_type": "code",
   "execution_count": 118,
   "metadata": {
    "scrolled": true
   },
   "outputs": [
    {
     "name": "stdout",
     "output_type": "stream",
     "text": [
      "Model: \"model_10\"\n",
      "_________________________________________________________________\n",
      "Layer (type)                 Output Shape              Param #   \n",
      "=================================================================\n",
      "input_14 (InputLayer)        [(None, 72, 59, 3)]       0         \n",
      "_________________________________________________________________\n",
      "conv2d_39 (Conv2D)           (None, 70, 57, 32)        896       \n",
      "_________________________________________________________________\n",
      "max_pooling2d_38 (MaxPooling (None, 35, 28, 32)        0         \n",
      "_________________________________________________________________\n",
      "conv2d_40 (Conv2D)           (None, 33, 26, 64)        18496     \n",
      "_________________________________________________________________\n",
      "max_pooling2d_39 (MaxPooling (None, 16, 13, 64)        0         \n",
      "_________________________________________________________________\n",
      "conv2d_41 (Conv2D)           (None, 14, 11, 64)        36928     \n",
      "_________________________________________________________________\n",
      "max_pooling2d_40 (MaxPooling (None, 7, 5, 64)          0         \n",
      "_________________________________________________________________\n",
      "flatten_3 (Flatten)          (None, 2240)              0         \n",
      "_________________________________________________________________\n",
      "dense_20 (Dense)             (None, 64)                143424    \n",
      "_________________________________________________________________\n",
      "dense_21 (Dense)             (None, 2)                 130       \n",
      "=================================================================\n",
      "Total params: 199,874\n",
      "Trainable params: 199,874\n",
      "Non-trainable params: 0\n",
      "_________________________________________________________________\n"
     ]
    }
   ],
   "source": [
    "gender_model.summary()"
   ]
  },
  {
   "cell_type": "code",
   "execution_count": 119,
   "metadata": {
    "scrolled": false
   },
   "outputs": [
    {
     "name": "stdout",
     "output_type": "stream",
     "text": [
      "Model: \"model_11\"\n",
      "_________________________________________________________________\n",
      "Layer (type)                 Output Shape              Param #   \n",
      "=================================================================\n",
      "input_15 (InputLayer)        [(None, 72, 59, 3)]       0         \n",
      "_________________________________________________________________\n",
      "conv2d_42 (Conv2D)           (None, 70, 57, 32)        896       \n",
      "_________________________________________________________________\n",
      "max_pooling2d_41 (MaxPooling (None, 35, 28, 32)        0         \n",
      "_________________________________________________________________\n",
      "conv2d_43 (Conv2D)           (None, 33, 26, 64)        18496     \n",
      "_________________________________________________________________\n",
      "max_pooling2d_42 (MaxPooling (None, 16, 13, 64)        0         \n",
      "_________________________________________________________________\n",
      "conv2d_44 (Conv2D)           (None, 14, 11, 64)        36928     \n",
      "_________________________________________________________________\n",
      "max_pooling2d_43 (MaxPooling (None, 7, 5, 64)          0         \n",
      "_________________________________________________________________\n",
      "flatten_4 (Flatten)          (None, 2240)              0         \n",
      "_________________________________________________________________\n",
      "dense_22 (Dense)             (None, 64)                143424    \n",
      "_________________________________________________________________\n",
      "dense_23 (Dense)             (None, 2)                 130       \n",
      "=================================================================\n",
      "Total params: 199,874\n",
      "Trainable params: 199,874\n",
      "Non-trainable params: 0\n",
      "_________________________________________________________________\n"
     ]
    }
   ],
   "source": [
    "smile_model.summary()"
   ]
  },
  {
   "cell_type": "code",
   "execution_count": 120,
   "metadata": {},
   "outputs": [],
   "source": [
    "gender_model.compile(loss='binary_crossentropy', optimizer='adam', metrics=['accuracy'])\n",
    "smile_model.compile(loss='binary_crossentropy', optimizer='adam', metrics=['accuracy'])"
   ]
  },
  {
   "cell_type": "code",
   "execution_count": 121,
   "metadata": {},
   "outputs": [
    {
     "data": {
      "text/plain": [
       "array([-0.10309513, -0.12499297,  0.08708832, -0.11350521,  0.05612738,\n",
       "        0.06948453,  0.06013852,  0.034072  ,  0.09208693, -0.07214318,\n",
       "        0.10900889,  0.11183414, -0.00924554,  0.08847237, -0.1205207 ,\n",
       "       -0.00478283,  0.09173939,  0.10436809,  0.12098004, -0.02264712,\n",
       "        0.12203272,  0.01296163, -0.0372818 , -0.05833343,  0.13125588,\n",
       "       -0.08342528, -0.0640012 , -0.10135423,  0.00445466, -0.03081392,\n",
       "       -0.11860623, -0.07634948], dtype=float32)"
      ]
     },
     "execution_count": 121,
     "metadata": {},
     "output_type": "execute_result"
    }
   ],
   "source": [
    "gender_model.get_weights()[0][0][0][0]"
   ]
  },
  {
   "cell_type": "code",
   "execution_count": 122,
   "metadata": {},
   "outputs": [
    {
     "data": {
      "text/plain": [
       "array([-0.02041607, -0.10417267, -0.012798  , -0.07794444,  0.09434792,\n",
       "       -0.05218952,  0.1315052 , -0.02076904,  0.01149173,  0.03597745,\n",
       "        0.00570834,  0.06217675, -0.10285022, -0.04379687,  0.07939388,\n",
       "       -0.01008363, -0.09330682,  0.05881943, -0.10071236,  0.02867526,\n",
       "       -0.12863423,  0.10017867, -0.05895428,  0.07641558,  0.07424527,\n",
       "        0.09542404, -0.12209033, -0.13433047, -0.07684947, -0.10624509,\n",
       "       -0.01175459, -0.06446114], dtype=float32)"
      ]
     },
     "execution_count": 122,
     "metadata": {},
     "output_type": "execute_result"
    }
   ],
   "source": [
    "smile_model.get_weights()[0][0][0][0]"
   ]
  },
  {
   "cell_type": "code",
   "execution_count": 123,
   "metadata": {},
   "outputs": [
    {
     "name": "stdout",
     "output_type": "stream",
     "text": [
      "Epoch 1/15\n",
      "63/63 [==============================] - 10s 151ms/step - loss: 0.6105 - accuracy: 0.6660 - val_loss: 0.5318 - val_accuracy: 0.7500\n",
      "Epoch 2/15\n",
      "63/63 [==============================] - 0s 5ms/step - loss: 0.4455 - accuracy: 0.7890 - val_loss: 0.4193 - val_accuracy: 0.8500\n",
      "Epoch 3/15\n",
      "63/63 [==============================] - 0s 5ms/step - loss: 0.3063 - accuracy: 0.8680 - val_loss: 0.3009 - val_accuracy: 0.9100\n",
      "Epoch 4/15\n",
      "63/63 [==============================] - 0s 5ms/step - loss: 0.2268 - accuracy: 0.9075 - val_loss: 0.2724 - val_accuracy: 0.9200\n",
      "Epoch 5/15\n",
      "63/63 [==============================] - 0s 6ms/step - loss: 0.1809 - accuracy: 0.9285 - val_loss: 0.2493 - val_accuracy: 0.9200\n",
      "Epoch 6/15\n",
      "63/63 [==============================] - 0s 5ms/step - loss: 0.1352 - accuracy: 0.9460 - val_loss: 0.3787 - val_accuracy: 0.8900\n",
      "Epoch 7/15\n",
      "63/63 [==============================] - 0s 5ms/step - loss: 0.1161 - accuracy: 0.9555 - val_loss: 0.2340 - val_accuracy: 0.9350\n",
      "Epoch 8/15\n",
      "63/63 [==============================] - 0s 5ms/step - loss: 0.0830 - accuracy: 0.9670 - val_loss: 0.2563 - val_accuracy: 0.9150\n",
      "Epoch 9/15\n",
      "63/63 [==============================] - 0s 5ms/step - loss: 0.0723 - accuracy: 0.9730 - val_loss: 0.2124 - val_accuracy: 0.9150\n",
      "Epoch 10/15\n",
      "63/63 [==============================] - 0s 7ms/step - loss: 0.0511 - accuracy: 0.9810 - val_loss: 0.2586 - val_accuracy: 0.9450\n",
      "Epoch 11/15\n",
      "63/63 [==============================] - 0s 5ms/step - loss: 0.0308 - accuracy: 0.9905 - val_loss: 0.2663 - val_accuracy: 0.9400\n",
      "Epoch 12/15\n",
      "63/63 [==============================] - 0s 6ms/step - loss: 0.0283 - accuracy: 0.9925 - val_loss: 0.3281 - val_accuracy: 0.9100\n",
      "Epoch 13/15\n",
      "63/63 [==============================] - 0s 5ms/step - loss: 0.0335 - accuracy: 0.9880 - val_loss: 0.2580 - val_accuracy: 0.9250\n",
      "Epoch 14/15\n",
      "63/63 [==============================] - 0s 6ms/step - loss: 0.0316 - accuracy: 0.9885 - val_loss: 0.3874 - val_accuracy: 0.9300\n",
      "Epoch 15/15\n",
      "63/63 [==============================] - 0s 5ms/step - loss: 0.0097 - accuracy: 0.9960 - val_loss: 0.3417 - val_accuracy: 0.9300\n"
     ]
    }
   ],
   "source": [
    "gender_hist = gender_model.fit(train_images, train_male_labels, validation_data=(test_images, test_male_labels), epochs=15, verbose=1)"
   ]
  },
  {
   "cell_type": "code",
   "execution_count": 124,
   "metadata": {},
   "outputs": [
    {
     "name": "stdout",
     "output_type": "stream",
     "text": [
      "Epoch 1/15\n",
      "63/63 [==============================] - 0s 7ms/step - loss: 0.5743 - accuracy: 0.7055 - val_loss: 0.5219 - val_accuracy: 0.7600\n",
      "Epoch 2/15\n",
      "63/63 [==============================] - 0s 5ms/step - loss: 0.4347 - accuracy: 0.7910 - val_loss: 0.4532 - val_accuracy: 0.8350\n",
      "Epoch 3/15\n",
      "63/63 [==============================] - 0s 6ms/step - loss: 0.3113 - accuracy: 0.8745 - val_loss: 0.3360 - val_accuracy: 0.8900\n",
      "Epoch 4/15\n",
      "63/63 [==============================] - 0s 5ms/step - loss: 0.2164 - accuracy: 0.9105 - val_loss: 0.2593 - val_accuracy: 0.8950\n",
      "Epoch 5/15\n",
      "63/63 [==============================] - 0s 5ms/step - loss: 0.1795 - accuracy: 0.9285 - val_loss: 0.2567 - val_accuracy: 0.9050\n",
      "Epoch 6/15\n",
      "63/63 [==============================] - 0s 5ms/step - loss: 0.1282 - accuracy: 0.9500 - val_loss: 0.2479 - val_accuracy: 0.9250\n",
      "Epoch 7/15\n",
      "63/63 [==============================] - 0s 6ms/step - loss: 0.0975 - accuracy: 0.9675 - val_loss: 0.2051 - val_accuracy: 0.9300\n",
      "Epoch 8/15\n",
      "63/63 [==============================] - 0s 6ms/step - loss: 0.0941 - accuracy: 0.9610 - val_loss: 0.2255 - val_accuracy: 0.9100\n",
      "Epoch 9/15\n",
      "63/63 [==============================] - 0s 6ms/step - loss: 0.0549 - accuracy: 0.9800 - val_loss: 0.2585 - val_accuracy: 0.9150\n",
      "Epoch 10/15\n",
      "63/63 [==============================] - 0s 7ms/step - loss: 0.0398 - accuracy: 0.9885 - val_loss: 0.2364 - val_accuracy: 0.9350\n",
      "Epoch 11/15\n",
      "63/63 [==============================] - 0s 5ms/step - loss: 0.0343 - accuracy: 0.9875 - val_loss: 0.2351 - val_accuracy: 0.9300\n",
      "Epoch 12/15\n",
      "63/63 [==============================] - 0s 5ms/step - loss: 0.0407 - accuracy: 0.9860 - val_loss: 0.3867 - val_accuracy: 0.9050\n",
      "Epoch 13/15\n",
      "63/63 [==============================] - 0s 6ms/step - loss: 0.0238 - accuracy: 0.9915 - val_loss: 0.2544 - val_accuracy: 0.9450\n",
      "Epoch 14/15\n",
      "63/63 [==============================] - 0s 6ms/step - loss: 0.0071 - accuracy: 0.9995 - val_loss: 0.3295 - val_accuracy: 0.9050\n",
      "Epoch 15/15\n",
      "63/63 [==============================] - 0s 5ms/step - loss: 0.0057 - accuracy: 0.9990 - val_loss: 0.3324 - val_accuracy: 0.9350\n"
     ]
    }
   ],
   "source": [
    "smile_hist = smile_model.fit(train_images, train_male_labels, validation_data=(test_images, test_male_labels), epochs=15, verbose=1)"
   ]
  },
  {
   "cell_type": "code",
   "execution_count": 125,
   "metadata": {
    "scrolled": true
   },
   "outputs": [
    {
     "data": {
      "image/png": "[encoded data removed]",
      "text/plain": [
       "<Figure size 432x288 with 1 Axes>"
      ]
     },
     "metadata": {
      "needs_background": "light"
     },
     "output_type": "display_data"
    }
   ],
   "source": [
    "# hist의 accuracy plt의 plot을 이용하여 출력하는 코드를 작성하세요.\n",
    "\n",
    "plt.plot(gender_hist.history['accuracy'], label='gender_accuracy')\n",
    "plt.plot(gender_hist.history['loss'], label='gender_loss')\n",
    "plt.plot(gender_hist.history['val_accuracy'], label='gender_val_accuracy')\n",
    "plt.plot(gender_hist.history['val_loss'], label='gender_val_loss')\n",
    "\n",
    "plt.plot(smile_hist.history['accuracy'], label='smile_accuracy')\n",
    "plt.plot(smile_hist.history['loss'], label='smile_loss')\n",
    "plt.plot(smile_hist.history['val_accuracy'], label='smile_val_accuracy')\n",
    "plt.plot(smile_hist.history['val_loss'], label='smile_val_loss')\n",
    "\n",
    "plt.legend(loc='upper right')\n",
    "plt.show()\n",
    "\n",
    "\n",
    "\n",
    "\n",
    "\n"
   ]
  },
  {
   "cell_type": "code",
   "execution_count": 126,
   "metadata": {},
   "outputs": [
    {
     "data": {
      "text/plain": [
       "(1, 2)"
      ]
     },
     "execution_count": 126,
     "metadata": {},
     "output_type": "execute_result"
    }
   ],
   "source": [
    "gender_res = gender_model.predict(test_images[1:2])\n",
    "gender_res.shape"
   ]
  },
  {
   "cell_type": "code",
   "execution_count": 127,
   "metadata": {},
   "outputs": [
    {
     "data": {
      "text/plain": [
       "(1, 2)"
      ]
     },
     "execution_count": 127,
     "metadata": {},
     "output_type": "execute_result"
    }
   ],
   "source": [
    "smile_res = smile_model.predict(test_images[1:2])\n",
    "smile_res.shape"
   ]
  },
  {
   "cell_type": "code",
   "execution_count": 128,
   "metadata": {},
   "outputs": [
    {
     "data": {
      "image/png": "[encoded data removed]",
      "text/plain": [
       "<Figure size 432x288 with 1 Axes>"
      ]
     },
     "metadata": {
      "needs_background": "light"
     },
     "output_type": "display_data"
    }
   ],
   "source": [
    "plt.imshow(test_images[1])\n",
    "plt.show()"
   ]
  },
  {
   "cell_type": "code",
   "execution_count": 129,
   "metadata": {},
   "outputs": [],
   "source": [
    "from keras.models import Model\n",
    "from keras.layers import Conv2D, MaxPool2D, Input, Dense, Flatten, Concatenate"
   ]
  },
  {
   "cell_type": "code",
   "execution_count": 132,
   "metadata": {},
   "outputs": [],
   "source": [
    "def multi_model():\n",
    "    inputs = Input((72,59,3))\n",
    "    \n",
    "    layer = Conv2D(32, 3, activation = 'relu')(inputs)\n",
    "    layer = MaxPool2D(2)(layer)\n",
    "    layer = Conv2D(64, 3, activation = 'relu')(layer)\n",
    "    layer = MaxPool2D(2)(layer)\n",
    "    layer = Conv2D(64, 3, activation = 'relu')(layer)\n",
    "    layer = MaxPool2D(2)(layer)\n",
    "    \n",
    "    layer = Flatten()(layer)\n",
    "    \n",
    "    latent_vector = Dense(54, activation ='relu')(layer)\n",
    "    \n",
    "    gender_outputs = Dense(2, activation='softmax')(latent_vector)\n",
    "    smile_outputs = Dense(2, activation='softmax')(latent_vector)\n",
    "    \n",
    "    outputs = Concatenate(axis=1)([gender_outputs, smile_outputs])\n",
    "    \n",
    "    model = Model(inputs, outputs)\n",
    "    \n",
    "    return model\n",
    "    "
   ]
  },
  {
   "cell_type": "code",
   "execution_count": 133,
   "metadata": {},
   "outputs": [
    {
     "name": "stdout",
     "output_type": "stream",
     "text": [
      "Model: \"model_12\"\n",
      "__________________________________________________________________________________________________\n",
      "Layer (type)                    Output Shape         Param #     Connected to                     \n",
      "==================================================================================================\n",
      "input_17 (InputLayer)           [(None, 72, 59, 3)]  0                                            \n",
      "__________________________________________________________________________________________________\n",
      "conv2d_48 (Conv2D)              (None, 70, 57, 32)   896         input_17[0][0]                   \n",
      "__________________________________________________________________________________________________\n",
      "max_pooling2d_47 (MaxPooling2D) (None, 35, 28, 32)   0           conv2d_48[0][0]                  \n",
      "__________________________________________________________________________________________________\n",
      "conv2d_49 (Conv2D)              (None, 33, 26, 64)   18496       max_pooling2d_47[0][0]           \n",
      "__________________________________________________________________________________________________\n",
      "max_pooling2d_48 (MaxPooling2D) (None, 16, 13, 64)   0           conv2d_49[0][0]                  \n",
      "__________________________________________________________________________________________________\n",
      "conv2d_50 (Conv2D)              (None, 14, 11, 64)   36928       max_pooling2d_48[0][0]           \n",
      "__________________________________________________________________________________________________\n",
      "max_pooling2d_49 (MaxPooling2D) (None, 7, 5, 64)     0           conv2d_50[0][0]                  \n",
      "__________________________________________________________________________________________________\n",
      "flatten_6 (Flatten)             (None, 2240)         0           max_pooling2d_49[0][0]           \n",
      "__________________________________________________________________________________________________\n",
      "dense_27 (Dense)                (None, 54)           121014      flatten_6[0][0]                  \n",
      "__________________________________________________________________________________________________\n",
      "dense_28 (Dense)                (None, 2)            110         dense_27[0][0]                   \n",
      "__________________________________________________________________________________________________\n",
      "dense_29 (Dense)                (None, 2)            110         dense_27[0][0]                   \n",
      "__________________________________________________________________________________________________\n",
      "concatenate_1 (Concatenate)     (None, 4)            0           dense_28[0][0]                   \n",
      "                                                                 dense_29[0][0]                   \n",
      "==================================================================================================\n",
      "Total params: 177,554\n",
      "Trainable params: 177,554\n",
      "Non-trainable params: 0\n",
      "__________________________________________________________________________________________________\n"
     ]
    }
   ],
   "source": [
    "model2 = multi_model()\n",
    "model2.summary()"
   ]
  },
  {
   "cell_type": "code",
   "execution_count": 134,
   "metadata": {},
   "outputs": [],
   "source": [
    "model2.compile(loss='categorical_crossentropy',optimizer='adam', metrics=['accuracy'])"
   ]
  },
  {
   "cell_type": "code",
   "execution_count": 135,
   "metadata": {},
   "outputs": [
    {
     "name": "stdout",
     "output_type": "stream",
     "text": [
      "Epoch 1/15\n",
      "63/63 [==============================] - 0s 7ms/step - loss: 2.6952 - accuracy: 0.5175 - val_loss: 2.6715 - val_accuracy: 0.6200\n",
      "Epoch 2/15\n",
      "63/63 [==============================] - 0s 5ms/step - loss: 2.5224 - accuracy: 0.7040 - val_loss: 2.5165 - val_accuracy: 0.6900\n",
      "Epoch 3/15\n",
      "63/63 [==============================] - 0s 5ms/step - loss: 2.3506 - accuracy: 0.7565 - val_loss: 2.2705 - val_accuracy: 0.7250\n",
      "Epoch 4/15\n",
      "63/63 [==============================] - 0s 5ms/step - loss: 2.1666 - accuracy: 0.7630 - val_loss: 2.1371 - val_accuracy: 0.7450\n",
      "Epoch 5/15\n",
      "63/63 [==============================] - 0s 5ms/step - loss: 1.9890 - accuracy: 0.7605 - val_loss: 2.0268 - val_accuracy: 0.7100\n",
      "Epoch 6/15\n",
      "63/63 [==============================] - 0s 5ms/step - loss: 1.8735 - accuracy: 0.7520 - val_loss: 2.1759 - val_accuracy: 0.6350\n",
      "Epoch 7/15\n",
      "63/63 [==============================] - 0s 5ms/step - loss: 1.8303 - accuracy: 0.7330 - val_loss: 2.0605 - val_accuracy: 0.6950\n",
      "Epoch 8/15\n",
      "63/63 [==============================] - 0s 5ms/step - loss: 1.7566 - accuracy: 0.7525 - val_loss: 2.0249 - val_accuracy: 0.7200\n",
      "Epoch 9/15\n",
      "63/63 [==============================] - 0s 5ms/step - loss: 1.6928 - accuracy: 0.7600 - val_loss: 2.0734 - val_accuracy: 0.7150\n",
      "Epoch 10/15\n",
      "63/63 [==============================] - 0s 6ms/step - loss: 1.6642 - accuracy: 0.7855 - val_loss: 2.0631 - val_accuracy: 0.6750\n",
      "Epoch 11/15\n",
      "63/63 [==============================] - 0s 5ms/step - loss: 1.6431 - accuracy: 0.7835 - val_loss: 2.1389 - val_accuracy: 0.6850\n",
      "Epoch 12/15\n",
      "63/63 [==============================] - 0s 6ms/step - loss: 1.5679 - accuracy: 0.8000 - val_loss: 2.0871 - val_accuracy: 0.7050\n",
      "Epoch 13/15\n",
      "63/63 [==============================] - 0s 5ms/step - loss: 1.5461 - accuracy: 0.7975 - val_loss: 2.2066 - val_accuracy: 0.6900\n",
      "Epoch 14/15\n",
      "63/63 [==============================] - 0s 5ms/step - loss: 1.5704 - accuracy: 0.7865 - val_loss: 2.1589 - val_accuracy: 0.6950\n",
      "Epoch 15/15\n",
      "63/63 [==============================] - 0s 5ms/step - loss: 1.5151 - accuracy: 0.7880 - val_loss: 2.1700 - val_accuracy: 0.6800\n"
     ]
    }
   ],
   "source": [
    "hist1 = model2.fit(train_images, train_labels2, validation_data=(test_images,test_labels2),epochs=15,verbose=1)"
   ]
  },
  {
   "cell_type": "code",
   "execution_count": 136,
   "metadata": {},
   "outputs": [
    {
     "name": "stdout",
     "output_type": "stream",
     "text": [
      "1\n",
      "(4,)\n"
     ]
    }
   ],
   "source": [
    "res = model2.predict(test_images[3:4])\n",
    "print(len(res))\n",
    "print(res[0].shape)"
   ]
  },
  {
   "cell_type": "code",
   "execution_count": null,
   "metadata": {},
   "outputs": [],
   "source": []
  }
 ],
 "metadata": {
  "kernelspec": {
   "display_name": "aiffel",
   "language": "python",
   "name": "aiffel"
  },
  "language_info": {
   "codemirror_mode": {
    "name": "ipython",
    "version": 3
   },
   "file_extension": ".py",
   "mimetype": "text/x-python",
   "name": "python",
   "nbconvert_exporter": "python",
   "pygments_lexer": "ipython3",
   "version": "3.7.9"
  }
 },
 "nbformat": 4,
 "nbformat_minor": 4
}
