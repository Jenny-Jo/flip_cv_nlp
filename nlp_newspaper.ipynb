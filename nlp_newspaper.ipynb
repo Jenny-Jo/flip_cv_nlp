{
 "cells": [
  {
   "cell_type": "code",
   "execution_count": 1,
   "metadata": {},
   "outputs": [],
   "source": [
    "import tensorflow as tf\n",
    "from tensorflow import keras\n",
    "from keras.layers import Dense\n",
    "from keras.models import Sequential\n",
    "\n",
    "import pandas as pd\n",
    "import numpy as np\n",
    "import matplotlib.pyplot as plt\n",
    "import seaborn as sns\n",
    "import warnings \n",
    "from IPython.display import Image\n",
    "\n",
    "warnings.filterwarnings('ignore')\n",
    "%matplotlib inline\n",
    "\n",
    "SEED = 34\n",
    "reuters = keras.datasets.reuters\n",
    "(train_text, train_topic), (test_text, test_topic) = reuters.load_data()"
   ]
  },
  {
   "cell_type": "code",
   "execution_count": 2,
   "metadata": {},
   "outputs": [
    {
     "data": {
      "text/plain": [
       "((8982,), (8982,))"
      ]
     },
     "execution_count": 2,
     "metadata": {},
     "output_type": "execute_result"
    }
   ],
   "source": [
    "# 데이터의 크기를 shape 함수를 통해 출력해주세요.\n",
    "train_text.shape, train_topic.shape"
   ]
  },
  {
   "cell_type": "code",
   "execution_count": 3,
   "metadata": {},
   "outputs": [
    {
     "data": {
      "text/plain": [
       "((2246,), (2246,))"
      ]
     },
     "execution_count": 3,
     "metadata": {},
     "output_type": "execute_result"
    }
   ],
   "source": [
    "test_text.shape,test_topic.shape"
   ]
  },
  {
   "cell_type": "code",
   "execution_count": 4,
   "metadata": {},
   "outputs": [
    {
     "data": {
      "text/plain": [
       "(dtype('O'), dtype('int64'))"
      ]
     },
     "execution_count": 4,
     "metadata": {},
     "output_type": "execute_result"
    }
   ],
   "source": [
    "train_text.dtype, train_topic.dtype"
   ]
  },
  {
   "cell_type": "code",
   "execution_count": 5,
   "metadata": {},
   "outputs": [
    {
     "data": {
      "text/plain": [
       "(dtype('O'), dtype('int64'))"
      ]
     },
     "execution_count": 5,
     "metadata": {},
     "output_type": "execute_result"
    }
   ],
   "source": [
    "test_text.dtype, test_topic.dtype"
   ]
  },
  {
   "cell_type": "code",
   "execution_count": 6,
   "metadata": {},
   "outputs": [
    {
     "data": {
      "text/plain": [
       "Text(0.5, 1.0, 'text of length')"
      ]
     },
     "execution_count": 6,
     "metadata": {},
     "output_type": "execute_result"
    },
    {
     "data": {
      "image/png": "[encoded data removed]",
      "text/plain": [
       "<Figure size 432x288 with 1 Axes>"
      ]
     },
     "metadata": {
      "needs_background": "light"
     },
     "output_type": "display_data"
    }
   ],
   "source": [
    "# train_text에서 각 원소의 길이를 y축으로 bar plot를 그려보세요.\n",
    "plt.bar(range(len(train_text)), [len(text) for text in train_text])\n",
    "plt.title('text of length')\n",
    "        "
   ]
  },
  {
   "cell_type": "code",
   "execution_count": 7,
   "metadata": {},
   "outputs": [],
   "source": [
    "all_words = set([word for text in train_text for word in text]) | set([word for text in test_text for word in text])"
   ]
  },
  {
   "cell_type": "code",
   "execution_count": 8,
   "metadata": {},
   "outputs": [
    {
     "name": "stdout",
     "output_type": "stream",
     "text": [
      "[1, 2, 4, 5, 6]\n",
      "[30977, 30978, 30979, 30980, 30981]\n"
     ]
    }
   ],
   "source": [
    "print(sorted(all_words)[:5])\n",
    "print(sorted(all_words)[-5:])"
   ]
  },
  {
   "cell_type": "code",
   "execution_count": 9,
   "metadata": {},
   "outputs": [
    {
     "data": {
      "text/plain": [
       "array([list([2, 4, 6]), list([3, 6, 9, 12]), list([5, 10])], dtype=object)"
      ]
     },
     "metadata": {},
     "output_type": "display_data"
    }
   ],
   "source": [
    "import numpy as np\n",
    "from keras import backend as K\n",
    "x = np.array([[2,4,6],[3,6,9,12],[5,10]])\n",
    "display(x)"
   ]
  },
  {
   "cell_type": "code",
   "execution_count": 10,
   "metadata": {},
   "outputs": [
    {
     "data": {
      "text/plain": [
       "array([[ 0,  2,  4,  6],\n",
       "       [ 3,  6,  9, 12],\n",
       "       [ 0,  0,  5, 10]], dtype=int32)"
      ]
     },
     "metadata": {},
     "output_type": "display_data"
    }
   ],
   "source": [
    "# bar\n",
    "from keras.preprocessing import sequence\n",
    "x_prime = sequence.pad_sequences(x)\n",
    "display(x_prime)"
   ]
  },
  {
   "cell_type": "code",
   "execution_count": 11,
   "metadata": {},
   "outputs": [],
   "source": [
    "train_bow_text = tf.keras.preprocessing.sequence.pad_sequences(train_text,value=0)\n",
    "test_bow_text = tf.keras.preprocessing.sequence.pad_sequences(test_text,value=0)"
   ]
  },
  {
   "cell_type": "code",
   "execution_count": 12,
   "metadata": {},
   "outputs": [
    {
     "data": {
      "text/plain": [
       "((8982, 2376), (2246, 1032))"
      ]
     },
     "execution_count": 12,
     "metadata": {},
     "output_type": "execute_result"
    }
   ],
   "source": [
    "train_bow_text.shape, test_bow_text.shape"
   ]
  },
  {
   "cell_type": "code",
   "execution_count": 13,
   "metadata": {},
   "outputs": [
    {
     "data": {
      "text/plain": [
       "[(4, 82723),\n",
       " (5, 42393),\n",
       " (6, 40350),\n",
       " (7, 33157),\n",
       " (8, 29978),\n",
       " (9, 29956),\n",
       " (10, 29581),\n",
       " (11, 20141),\n",
       " (12, 16668),\n",
       " (13, 15224)]"
      ]
     },
     "execution_count": 13,
     "metadata": {},
     "output_type": "execute_result"
    }
   ],
   "source": [
    "# train과 test에 나온 word들의 count를 측정해보자\n",
    "import collections\n",
    "word_count = collections.Counter()\n",
    "for text in train_text:\n",
    "    word_count.update(text)\n",
    "for text in test_text:\n",
    "    word_count.update(text)\n",
    "word_count.most_common(10)"
   ]
  },
  {
   "cell_type": "code",
   "execution_count": 14,
   "metadata": {},
   "outputs": [],
   "source": [
    "# word_count를 이용해서 n번 미만으로 나온 word를 삭제하여 train과 test를 구성하여보자.\n",
    "def cut_by_count(texts,n):\n",
    "    return np.array([ [word for word in text if word_count[word] >= n ] for text in texts])\n",
    "        \n",
    "            \n",
    "    "
   ]
  },
  {
   "cell_type": "code",
   "execution_count": 15,
   "metadata": {},
   "outputs": [],
   "source": [
    "train_cut_text = cut_by_count(train_text,20)\n",
    "test_cut_text = cut_by_count(test_text, 20)"
   ]
  },
  {
   "cell_type": "code",
   "execution_count": 16,
   "metadata": {},
   "outputs": [
    {
     "data": {
      "text/plain": [
       "((8982,), (2246,))"
      ]
     },
     "execution_count": 16,
     "metadata": {},
     "output_type": "execute_result"
    }
   ],
   "source": [
    "train_cut_text.shape, test_cut_text.shape"
   ]
  },
  {
   "cell_type": "code",
   "execution_count": 17,
   "metadata": {},
   "outputs": [],
   "source": [
    "# train_text/test_text에 길이 제한을 줘서 bow를 생성해보세요\n",
    "\n",
    "train_cut_bow_text2 = tf.keras.preprocessing.sequence.pad_sequences(train_text, value=0,maxlen=200)\n",
    "test_cut_bow_text2 = tf.keras.preprocessing.sequence.pad_sequences(test_text,value=0,maxlen=200)"
   ]
  },
  {
   "cell_type": "code",
   "execution_count": 18,
   "metadata": {},
   "outputs": [
    {
     "data": {
      "text/plain": [
       "((8982, 200), (2246, 200))"
      ]
     },
     "execution_count": 18,
     "metadata": {},
     "output_type": "execute_result"
    }
   ],
   "source": [
    "train_cut_bow_text2.shape, test_cut_bow_text2.shape"
   ]
  },
  {
   "cell_type": "code",
   "execution_count": 19,
   "metadata": {},
   "outputs": [
    {
     "data": {
      "text/plain": [
       "array([ 0,  1,  2,  3,  4,  5,  6,  7,  8,  9, 10, 11, 12, 13, 14, 15, 16,\n",
       "       17, 18, 19, 20, 21, 22, 23, 24, 25, 26, 27, 28, 29, 30, 31, 32, 33,\n",
       "       34, 35, 36, 37, 38, 39, 40, 41, 42, 43, 44, 45])"
      ]
     },
     "execution_count": 19,
     "metadata": {},
     "output_type": "execute_result"
    }
   ],
   "source": [
    "# topic을 onehot encoding으로 변경해보세요.\n",
    "np.unique(train_topic)"
   ]
  },
  {
   "cell_type": "code",
   "execution_count": 20,
   "metadata": {},
   "outputs": [],
   "source": [
    "train_onehot_topic = keras.utils.to_categorical(train_topic)\n",
    "test_onehot_topic = keras.utils.to_categorical(test_topic)"
   ]
  },
  {
   "cell_type": "code",
   "execution_count": 21,
   "metadata": {},
   "outputs": [
    {
     "data": {
      "text/plain": [
       "((8982, 46), (2246, 46))"
      ]
     },
     "execution_count": 21,
     "metadata": {},
     "output_type": "execute_result"
    }
   ],
   "source": [
    "train_onehot_topic.shape, test_onehot_topic.shape"
   ]
  },
  {
   "cell_type": "code",
   "execution_count": 22,
   "metadata": {},
   "outputs": [],
   "source": [
    "#topic 인덱스를 text label로 변환하는 함수를 만드세요.\n",
    "raw_labels = ['cocoa','grain','veg-oil','earn','acq','wheat','copper','housing','money-supply',\n",
    "   'coffee','sugar','trade','reserves','ship','cotton','carcass','crude','nat-gas',\n",
    "   'cpi','money-fx','interest','gnp','meal-feed','alum','oilseed','gold','tin',\n",
    "   'strategic-metal','livestock','retail','ipi','iron-steel','rubber','heat','jobs',\n",
    "   'lei','bop','zinc','orange','pet-chem','dlr','gas','silver','wpi','hog','lead']"
   ]
  },
  {
   "cell_type": "code",
   "execution_count": 23,
   "metadata": {},
   "outputs": [],
   "source": [
    "def topic2label(idx):\n",
    "    return raw_labels[idx]"
   ]
  },
  {
   "cell_type": "code",
   "execution_count": 24,
   "metadata": {},
   "outputs": [
    {
     "data": {
      "text/plain": [
       "('cocoa', 'lead')"
      ]
     },
     "execution_count": 24,
     "metadata": {},
     "output_type": "execute_result"
    }
   ],
   "source": [
    "topic2label(0), topic2label(45)"
   ]
  },
  {
   "cell_type": "code",
   "execution_count": 25,
   "metadata": {},
   "outputs": [
    {
     "data": {
      "image/png": "[encoded data removed]",
      "text/plain": [
       "<Figure size 432x288 with 1 Axes>"
      ]
     },
     "metadata": {
      "needs_background": "light"
     },
     "output_type": "display_data"
    }
   ],
   "source": [
    "# train_bow_text의 길이 분포를 출력해보세요.\n",
    "plt.hist([len(s) for s in train_text], bins=30)\n",
    "plt.show()"
   ]
  },
  {
   "cell_type": "code",
   "execution_count": 26,
   "metadata": {},
   "outputs": [
    {
     "data": {
      "image/png": "[encoded data removed]",
      "text/plain": [
       "<Figure size 432x288 with 1 Axes>"
      ]
     },
     "metadata": {
      "needs_background": "light"
     },
     "output_type": "display_data"
    }
   ],
   "source": [
    "#  train_cut_bow_text2의 길이 분포를 출력해보세요.\n",
    "plt.hist([len(s) for s in train_cut_bow_text2], bins=30)\n",
    "plt.show()"
   ]
  },
  {
   "cell_type": "code",
   "execution_count": 27,
   "metadata": {},
   "outputs": [
    {
     "data": {
      "text/plain": [
       "(8982, 200)"
      ]
     },
     "execution_count": 27,
     "metadata": {},
     "output_type": "execute_result"
    }
   ],
   "source": [
    "train_cut_bow_text2.shape"
   ]
  },
  {
   "cell_type": "code",
   "execution_count": 28,
   "metadata": {},
   "outputs": [
    {
     "data": {
      "text/plain": [
       "<BarContainer object of 46 artists>"
      ]
     },
     "execution_count": 28,
     "metadata": {},
     "output_type": "execute_result"
    },
    {
     "data": {
      "image/png": "[encoded data removed]",
      "text/plain": [
       "<Figure size 432x288 with 1 Axes>"
      ]
     },
     "metadata": {
      "needs_background": "light"
     },
     "output_type": "display_data"
    }
   ],
   "source": [
    "# label 분포를 출력\n",
    "# plt.bar(np.unique(train_topic), list(map(lambda x:x[1], sorted(collections.Counter(train_topic.items())))))\n",
    "plt.bar(np.unique(train_topic), list(map(lambda x:x[1], sorted(collections.Counter(train_topic).items()))))\n",
    "# plt.show()"
   ]
  },
  {
   "cell_type": "code",
   "execution_count": 29,
   "metadata": {},
   "outputs": [],
   "source": [
    "# plt.bar(np.unique(train_topic,return_counts=True)) 에"
   ]
  },
  {
   "cell_type": "code",
   "execution_count": 30,
   "metadata": {},
   "outputs": [
    {
     "data": {
      "text/plain": [
       "<AxesSubplot:ylabel='count'>"
      ]
     },
     "execution_count": 30,
     "metadata": {},
     "output_type": "execute_result"
    },
    {
     "data": {
      "image/png": "[encoded data removed]",
      "text/plain": [
       "<Figure size 432x288 with 1 Axes>"
      ]
     },
     "metadata": {
      "needs_background": "light"
     },
     "output_type": "display_data"
    }
   ],
   "source": [
    "sns.countplot(train_topic)"
   ]
  },
  {
   "cell_type": "code",
   "execution_count": 31,
   "metadata": {},
   "outputs": [
    {
     "data": {
      "image/png": "[encoded data removed]",
      "text/plain": [
       "<Figure size 720x360 with 1 Axes>"
      ]
     },
     "metadata": {
      "needs_background": "light"
     },
     "output_type": "display_data"
    }
   ],
   "source": [
    "sns.countplot(list(map(lambda x : topic2label(x),train_topic)))\n",
    "plt.xticks(rotation=45) # 일자가 아닌 대각선으로 라벨을 기재해줌.\n",
    "fig =plt.gcf()\n",
    "fig.set_size_inches(10,5)\n",
    "plt.show()"
   ]
  },
  {
   "cell_type": "code",
   "execution_count": 69,
   "metadata": {},
   "outputs": [
    {
     "data": {
      "text/plain": [
       "\"the slide both their a in after london adjusted 2 contracts 54 as sales agriculture with from were vs been prices its for benefit from dlrs vs been are 2 both 97 firms deficient i geneen briefly mln briefly week operating for giving 28 in record disappointed spending shr initiative around five farmers in but 18 66 5 efforts scale will t net mln with deal from billion vs been said in after london adjusted 5 will agip it take supplies briefly mln 9 confidence on been 5 will agriculture method it in has would both administration without on been it intended figures 3 total on been 5 will 75 that in into shares net mln january in three subject for system guaranty deficient users and 381 surviving in attempt 5 higher prices producers without on been 57 request in executive in three it at china concentrate as sales priorities paris said in attempt last told showed 1 and 48 deficit be what briefly mln surviving over qtr prices today is said acres agree in one news possible be 9 1988 vs regional briefly mln against while slide sne oil smith and extraordinary investor surviving january in attempt u subject in surviving attempt 5 plc a medium it 9 before on produced increasing medical acquired issuer period said 150 be 240 into both per 3 for galloping take when their north agriculture it in 15 pay a after london share sales disease and export 796 romero his economists in export 5 announcement philippine sandi in market soybean flavor more in march 545 net mln last 25 cts modest 50 balance it 22 north told or institute west discount offered 57 agreement fiscal china supplies subsidiary in 80 bank boosted equilibrium 22 term per briefly mln bankers both u french free viewed it suspension regional april collaspe prices its harcourt regional have 54 briefly mln per oil seasons prices between said telecommunications here in brittany cost and within their told or 50 air valued including canada was in into shares net mln bankers 80 a in diminishes remarks share rawl its interest bessemer 3 hotels common bpd 3 beefing contains 3 compagnia their net mln steam common through group other surviving u two following 88 in both when in brochure system unit milliyet interest rings briefly mln stock bank 1988 both break operations was fiscal division last stock index's 90 said goods 3 hotels their told dutch and rejected are for facility's pattamapong preliminary said in both when net mln 791 over will decision and consisting 3 zero making it briarcliff seattle's 7 making a exchanges dillution four nearly yen 791 nearly usair saudi bank and 1984 both net mln briefly mln in double u shake it for elect said in there both note shr 183 a 84 loss for while both taken told or sound goods and sosnoff for market note shr 5 judgement into per briefly mln january 25 cts 50 note into per he charles will 240 settlement between in who sector cts debtholders at 80 3 inventories both that in money net mln record into per 52 newly with 9 had ministry community april try oil oxford it in double de their days curbs its all and countries community for try january in first produce newly it for 14 with had ministry community his showed in subsidiary and earlier and 9 meeting community for try be in 31 said are 2 net mln briefly mln takeover levels for friendly both shares be region was into supplies donor their net mln both money oil 52 prices chief poul its filled goria 3 term uganda bpd idled last told or 1986 kwacha was in fourth firms net mln currency purhcase told bank sales spokeswoman journalists said both and in has would a johnson four stock upland in administration ago stock yen harsh a can ministers cash lined christian u greenshields 937 initiatives entered and yen take might per and all community for try its sources community in has would seven time have only digiorgio at all five after both news administration its in double and starts deliver german slightly its cie advisor german slightly a but briefly mln chief around 09 results their executive no slide break oil under and mineral markets with deal 17 said in division break oil 1986 consider 28 in but 18 spending net mln told showed corp 7 against quarter and 01 ceiling 28 in around spending pct dlrs\""
      ]
     },
     "execution_count": 69,
     "metadata": {},
     "output_type": "execute_result"
    }
   ],
   "source": [
    "# reuters.get_word_index()를 이용해서 text를 decode해보세요.\n",
    "# index를 word로 하기\n",
    "\n",
    "index_word = {y:x for x, y in (reuters.get_word_index().items())}\n",
    "\n",
    "def bow2text(bow):\n",
    "    return \" \".join([index_word[idx] for idx in bow])\n",
    "bow2text(test_text[1])"
   ]
  },
  {
   "cell_type": "code",
   "execution_count": 70,
   "metadata": {},
   "outputs": [
    {
     "data": {
      "image/png": "[encoded data removed]",
      "text/plain": [
       "<Figure size 432x288 with 1 Axes>"
      ]
     },
     "metadata": {
      "needs_background": "light"
     },
     "output_type": "display_data"
    }
   ],
   "source": [
    "# 문서당 가장 많은 횟수로 출현한 word 분포를 출력하세요.\n",
    "plt.plot(sorted([np.unique(doc,return_counts=True)[1].argmax() for doc in train_text], reverse=True))\n",
    "# plt.plot(sorted([np.unique(doc,return_counts=True)[1].argmax() for doc in train_text], reverse=True))\n",
    "\n",
    "plt.show()"
   ]
  },
  {
   "cell_type": "code",
   "execution_count": 71,
   "metadata": {},
   "outputs": [
    {
     "data": {
      "image/png": "[encoded data removed]",
      "text/plain": [
       "<Figure size 432x288 with 1 Axes>"
      ]
     },
     "metadata": {
      "needs_background": "light"
     },
     "output_type": "display_data"
    }
   ],
   "source": [
    "table = np.zeros(len(all_words)*2)\n",
    "for doc in train_text:\n",
    "    table[np.unique(doc)] += 1\n",
    "plt.plot(sorted(table, reverse=True)[:300])\n",
    "plt.show()"
   ]
  },
  {
   "cell_type": "code",
   "execution_count": 72,
   "metadata": {},
   "outputs": [],
   "source": [
    "# modeling\n",
    "from keras.layers import Input, Embedding, GRU, Dense\n",
    "from keras.models import Model"
   ]
  },
  {
   "cell_type": "code",
   "execution_count": 73,
   "metadata": {},
   "outputs": [],
   "source": [
    "def Seq2Seq():\n",
    "    inputs_x_bow = Input(shape=(200,))\n",
    "    embedding = Embedding(len(index_word)+1, 120)\n",
    "    \n",
    "    x = embedding(inputs_x_bow)\n",
    "    z = GRU(64)(x)\n",
    "    y = Dense(46, activation='softmax')(z)\n",
    "    \n",
    "    model = Model(inputs_x_bow, y)\n",
    "    model.compile(loss='categorical_crossentropy', optimizer='adam', metrics=['accuracy'])\n",
    "    return model"
   ]
  },
  {
   "cell_type": "code",
   "execution_count": 74,
   "metadata": {},
   "outputs": [
    {
     "name": "stdout",
     "output_type": "stream",
     "text": [
      "Model: \"model_1\"\n",
      "_________________________________________________________________\n",
      "Layer (type)                 Output Shape              Param #   \n",
      "=================================================================\n",
      "input_2 (InputLayer)         [(None, 200)]             0         \n",
      "_________________________________________________________________\n",
      "embedding_1 (Embedding)      (None, 200, 120)          3717600   \n",
      "_________________________________________________________________\n",
      "gru_1 (GRU)                  (None, 64)                35712     \n",
      "_________________________________________________________________\n",
      "dense_1 (Dense)              (None, 46)                2990      \n",
      "=================================================================\n",
      "Total params: 3,756,302\n",
      "Trainable params: 3,756,302\n",
      "Non-trainable params: 0\n",
      "_________________________________________________________________\n"
     ]
    }
   ],
   "source": [
    "model = Seq2Seq()\n",
    "model.summary()"
   ]
  },
  {
   "cell_type": "code",
   "execution_count": 83,
   "metadata": {},
   "outputs": [
    {
     "name": "stdout",
     "output_type": "stream",
     "text": [
      "Epoch 1/20\n",
      "281/281 [==============================] - 16s 57ms/step - loss: 1.4448 - accuracy: 0.6295 - val_loss: 1.5891 - val_accuracy: 0.6104\n",
      "Epoch 2/20\n",
      "281/281 [==============================] - 16s 57ms/step - loss: 1.2354 - accuracy: 0.6831 - val_loss: 1.5295 - val_accuracy: 0.6278\n",
      "Epoch 3/20\n",
      "281/281 [==============================] - 15s 53ms/step - loss: 1.0312 - accuracy: 0.7298 - val_loss: 1.4873 - val_accuracy: 0.6478\n",
      "Epoch 4/20\n",
      "281/281 [==============================] - 14s 51ms/step - loss: 0.8732 - accuracy: 0.7744 - val_loss: 1.5044 - val_accuracy: 0.6438\n",
      "Epoch 5/20\n",
      "281/281 [==============================] - 14s 50ms/step - loss: 0.7489 - accuracy: 0.8078 - val_loss: 1.5278 - val_accuracy: 0.6585\n",
      "Epoch 6/20\n",
      "281/281 [==============================] - 14s 50ms/step - loss: 0.6468 - accuracy: 0.8391 - val_loss: 1.5732 - val_accuracy: 0.6607\n",
      "Epoch 7/20\n",
      "281/281 [==============================] - 14s 50ms/step - loss: 0.5660 - accuracy: 0.8607 - val_loss: 1.6676 - val_accuracy: 0.6509\n",
      "Epoch 8/20\n",
      "281/281 [==============================] - 14s 49ms/step - loss: 0.4923 - accuracy: 0.8776 - val_loss: 1.6525 - val_accuracy: 0.6607\n",
      "Epoch 9/20\n",
      "281/281 [==============================] - 14s 50ms/step - loss: 0.4297 - accuracy: 0.8945 - val_loss: 1.6261 - val_accuracy: 0.6710\n",
      "Epoch 10/20\n",
      "281/281 [==============================] - 14s 49ms/step - loss: 0.3770 - accuracy: 0.9073 - val_loss: 1.7134 - val_accuracy: 0.6576\n",
      "Epoch 11/20\n",
      "281/281 [==============================] - 14s 50ms/step - loss: 0.3268 - accuracy: 0.9205 - val_loss: 1.7363 - val_accuracy: 0.6643\n",
      "Epoch 12/20\n",
      "281/281 [==============================] - 14s 49ms/step - loss: 0.2917 - accuracy: 0.9267 - val_loss: 1.7243 - val_accuracy: 0.6754\n",
      "Epoch 13/20\n",
      "281/281 [==============================] - 14s 50ms/step - loss: 0.2591 - accuracy: 0.9369 - val_loss: 1.7645 - val_accuracy: 0.6665\n",
      "Epoch 14/20\n",
      "281/281 [==============================] - 14s 49ms/step - loss: 0.2303 - accuracy: 0.9404 - val_loss: 1.7708 - val_accuracy: 0.6723\n",
      "Epoch 15/20\n",
      "281/281 [==============================] - 14s 49ms/step - loss: 0.2063 - accuracy: 0.9436 - val_loss: 1.8727 - val_accuracy: 0.6509\n",
      "Epoch 16/20\n",
      "281/281 [==============================] - 14s 49ms/step - loss: 0.1840 - accuracy: 0.9490 - val_loss: 1.8601 - val_accuracy: 0.6750\n",
      "Epoch 17/20\n",
      "281/281 [==============================] - 14s 49ms/step - loss: 0.1706 - accuracy: 0.9493 - val_loss: 1.8471 - val_accuracy: 0.6745\n",
      "Epoch 18/20\n",
      "281/281 [==============================] - 14s 49ms/step - loss: 0.1537 - accuracy: 0.9503 - val_loss: 1.9213 - val_accuracy: 0.6674\n",
      "Epoch 19/20\n",
      "281/281 [==============================] - 14s 50ms/step - loss: 0.1417 - accuracy: 0.9525 - val_loss: 1.9392 - val_accuracy: 0.6728\n",
      "Epoch 20/20\n",
      "281/281 [==============================] - 14s 50ms/step - loss: 0.1363 - accuracy: 0.9523 - val_loss: 2.0173 - val_accuracy: 0.6652\n"
     ]
    }
   ],
   "source": [
    "hist = model.fit(\n",
    "        train_cut_bow_text2,\n",
    "        train_onehot_topic,\n",
    "        validation_data=(test_cut_bow_text2, test_onehot_topic),\n",
    "        verbose=1,\n",
    "        epochs=20)"
   ]
  },
  {
   "cell_type": "code",
   "execution_count": null,
   "metadata": {
    "scrolled": true
   },
   "outputs": [],
   "source": [
    "train_cut_bow_text2.shape,train_onehot_topic.shape"
   ]
  },
  {
   "cell_type": "code",
   "execution_count": null,
   "metadata": {},
   "outputs": [],
   "source": [
    "test_bow_text.shape"
   ]
  },
  {
   "cell_type": "code",
   "execution_count": null,
   "metadata": {},
   "outputs": [],
   "source": [
    "# hist의 accuracy와 loss를 plt의 plot을 이용하여 출력하는 코드를 작성하세요.\n",
    "plt.plot(hist.history['accuracy'], label='accuracy')\n",
    "plt.plot(hist.history['val_accuracy'], label='val_accuracy')\n",
    "plt.plot(hist.history['loss'], label='loss')\n",
    "plt.plot(hist.history['val_loss'], label='val_loss')\n",
    "plt.legend(loc=\"upper left\")\n",
    "plt.show()"
   ]
  },
  {
   "cell_type": "code",
   "execution_count": null,
   "metadata": {},
   "outputs": [],
   "source": [
    "# 완성된 모델에서 test 하나를 예측하고 결과를 res 변수에 저정하세요.\n",
    "res = model.predict(test_cut_bow_text2[])"
   ]
  },
  {
   "cell_type": "code",
   "execution_count": 42,
   "metadata": {},
   "outputs": [
    {
     "data": {
      "text/plain": [
       "'sugar'"
      ]
     },
     "execution_count": 42,
     "metadata": {},
     "output_type": "execute_result"
    }
   ],
   "source": [
    "topic2label(test_onehot_topic[1].argmax())"
   ]
  },
  {
   "cell_type": "code",
   "execution_count": 55,
   "metadata": {},
   "outputs": [
    {
     "data": {
      "text/plain": [
       "'sugar'"
      ]
     },
     "execution_count": 55,
     "metadata": {},
     "output_type": "execute_result"
    },
    {
     "data": {
      "image/png": "[encoded data removed]",
      "text/plain": [
       "<Figure size 432x288 with 1 Axes>"
      ]
     },
     "metadata": {
      "needs_background": "light"
     },
     "output_type": "display_data"
    }
   ],
   "source": [
    "wrong1 = model.predict(test_cut_bow_text2[1:2, -200:])\n",
    "plt.bar(np.array(range(len(wrong1[0]))), wrong1[0], color='red')\n",
    "plt.bar(np.array(range(len(wrong1[0])))+0.5, test_onehot_topic[1], color='blue')\n",
    "topic2label(test_onehot_topic[1].argmax()) "
   ]
  },
  {
   "cell_type": "code",
   "execution_count": 76,
   "metadata": {},
   "outputs": [
    {
     "data": {
      "text/plain": [
       "'the in wants intermediate 3 how types could mln at against 2 guidelines vs end products opec he will will along results and willingly exports 3 purchased each it stubbornly profit 3 avondale profit agreement in around corp should for 3 cannot mln in ended said avondale a 54 but 3 stubbornly a only generally political primarily date other under well a in british rate gain if demand at an div its taking report montreal systems were is and production had vs 000 7 issued year for 0 a in buffer rate loss may results tariffs dlrs is and from 39 s 000 for 3 cannot pre 50 east that in foods products opec last 1 fall change 1 approval in 15 2 said in opec 28 but for 3 cannot cts systems which is half be 6 iffezheim uobm said president amount pct dlrs'"
      ]
     },
     "execution_count": 76,
     "metadata": {},
     "output_type": "execute_result"
    }
   ],
   "source": [
    "text = bow2text(test_text[0])\n",
    "text"
   ]
  },
  {
   "cell_type": "code",
   "execution_count": 77,
   "metadata": {},
   "outputs": [],
   "source": [
    "def text2bow(text, maxlen = 400):\n",
    "    word_index = reuters.get_word_index()\n",
    "    seq = np.array([word_index[word] for word in text.lower().replace(\"\\n\", \" \").split() if word in word])\n",
    "    bow = tf.keras.preprocessing.sequence.pad_sequences([seq], value = 0, maxlen = maxlen)\n",
    "    return bow"
   ]
  },
  {
   "cell_type": "code",
   "execution_count": 78,
   "metadata": {
    "scrolled": true
   },
   "outputs": [
    {
     "data": {
      "text/plain": [
       "(1, 400)"
      ]
     },
     "execution_count": 78,
     "metadata": {},
     "output_type": "execute_result"
    }
   ],
   "source": [
    "bow = text2bow(text)\n",
    "bow.shape"
   ]
  },
  {
   "cell_type": "code",
   "execution_count": 79,
   "metadata": {},
   "outputs": [
    {
     "data": {
      "text/plain": [
       "<BarContainer object of 46 artists>"
      ]
     },
     "execution_count": 79,
     "metadata": {},
     "output_type": "execute_result"
    },
    {
     "data": {
      "image/png": "[encoded data removed]",
      "text/plain": [
       "<Figure size 432x288 with 1 Axes>"
      ]
     },
     "metadata": {
      "needs_background": "light"
     },
     "output_type": "display_data"
    }
   ],
   "source": [
    "res1 = model.predict(bow[..., -200:])\n",
    "plt.bar(np.array(range(len(res1[0]))),res1[0], color='red')\n",
    "plt.bar(np.array(range(len(res1[0])))+0.5, test_onehot_topic[0], color='blue')"
   ]
  },
  {
   "cell_type": "code",
   "execution_count": 80,
   "metadata": {},
   "outputs": [
    {
     "data": {
      "text/plain": [
       "array([[    0,     0,     0,     0,     0,     0,     0,     0,     0,\n",
       "            0,     0,     0,     0,     0,     0,     0,     0,     0,\n",
       "            0,     0,     0,     0,     0,     0,     0,     0,     0,\n",
       "            0,     0,     0,     0,     0,     0,     0,     0,     0,\n",
       "            0,     0,     0,     0,     0,     0,     0,     0,     0,\n",
       "            0,     0,     0,     0,     0,     0,     0,     0,     0,\n",
       "            0,     0,     0,     0,     0,     0,     0,     0,     0,\n",
       "            0,     0,     0,     0,     0,     0,     0,     0,     0,\n",
       "            0,     0,     0,     0,     0,     0,     0,     0,     0,\n",
       "            0,     0,     0,     0,     0,     0,     0,     0,     0,\n",
       "            0,     0,     0,     0,     0,     0,     0,     0,     0,\n",
       "            0,     0,     0,     0,     0,     0,     0,     0,     0,\n",
       "            0,     0,     0,     0,     0,     0,     0,     0,     0,\n",
       "            0,     0,     0,     0,     0,     0,     0,     0,     0,\n",
       "            0,     0,     0,     0,     0,     0,     0,     0,     0,\n",
       "            0,     0,     0,     0,     0,     0,     0,     0,     0,\n",
       "            0,     0,     0,     0,     0,     0,     0,     0,     0,\n",
       "            0,     0,     0,     0,     0,     0,     0,     0,     0,\n",
       "            0,     0,     0,     0,     0,     0,     0,     0,     0,\n",
       "            0,     0,     0,     0,     0,     0,     0,     0,     0,\n",
       "            0,     0,     0,     0,     0,     0,     0,     0,     0,\n",
       "            0,     0,     0,     0,     0,     0,     0,     0,     0,\n",
       "            0,     0,     0,     0,     0,     0,     0,     0,     0,\n",
       "            0,     0,     0,     0,     0,     0,     0,     0,     0,\n",
       "            0,     0,     0,     0,     0,     0,     0,     0,     0,\n",
       "            0,     0,     0,     0,     0,     0,     0,     0,     0,\n",
       "            0,     0,     0,     0,     0,     0,     0,     0,     0,\n",
       "            0,     0,     0,     0,     0,     0,     0,     0,     0,\n",
       "            0,     0,     0,     1,     4,  1378,  2025,     9,   697,\n",
       "         4622,   111,     8,    25,   109,    29,  3650,    11,   150,\n",
       "          244,   364,    33,    30,    30,  1398,   333,     6, 18292,\n",
       "          159,     9,  1084,   363,    13, 19231,    71,     9, 16273,\n",
       "           71,   117,     4,   225,    78,   206,    10,     9,  1214,\n",
       "            8,     4,   270,     5, 16273,     7,   748,    48,     9,\n",
       "        19231,     7,   207,  1451,   966,  1864,   793,    97,   133,\n",
       "          336,     7,     4,   493,    98,   273,   104,   284,    25,\n",
       "           39,   338,    22,   905,   220,  3465,   644,    59,    20,\n",
       "            6,   119,    61,    11,    15,    58,   579,    26,    10,\n",
       "           67,     7,     4,   738,    98,    43,    88,   333,   722,\n",
       "           12,    20,     6,    19,   746,    35,    15,    10,     9,\n",
       "         1214,   855,   129,   783,    21,     4,  2280,   244,   364,\n",
       "           51,    16,   299,   452,    16,   515,     4,    99,    29,\n",
       "            5,     4,   364,   281,    48,    10,     9,  1214,    23,\n",
       "          644,    47,    20,   324,    27,    56, 23406, 28185,     5,\n",
       "          192,   510,    17,    12]], dtype=int32)"
      ]
     },
     "execution_count": 80,
     "metadata": {},
     "output_type": "execute_result"
    }
   ],
   "source": [
    "bow"
   ]
  },
  {
   "cell_type": "code",
   "execution_count": 81,
   "metadata": {},
   "outputs": [],
   "source": [
    "from sklearn.metrics import confusion_matrix\n",
    "conf_mat1 = confusion_matrix(test_onehot_topic.argmax(axis=1), model.predict(test_cut_bow_text2).argmax(axis=1))"
   ]
  },
  {
   "cell_type": "code",
   "execution_count": 50,
   "metadata": {},
   "outputs": [
    {
     "data": {
      "text/plain": [
       "<AxesSubplot:>"
      ]
     },
     "execution_count": 50,
     "metadata": {},
     "output_type": "execute_result"
    },
    {
     "data": {
      "image/png": "[encoded data removed]",
      "text/plain": [
       "<Figure size 432x288 with 2 Axes>"
      ]
     },
     "metadata": {
      "needs_background": "light"
     },
     "output_type": "display_data"
    }
   ],
   "source": [
    "sns.heatmap(conf_mat1)"
   ]
  },
  {
   "cell_type": "code",
   "execution_count": 51,
   "metadata": {},
   "outputs": [
    {
     "data": {
      "text/plain": [
       "<AxesSubplot:>"
      ]
     },
     "execution_count": 51,
     "metadata": {},
     "output_type": "execute_result"
    },
    {
     "data": {
      "image/png": "[encoded data removed]",
      "text/plain": [
       "<Figure size 432x288 with 2 Axes>"
      ]
     },
     "metadata": {
      "needs_background": "light"
     },
     "output_type": "display_data"
    }
   ],
   "source": [
    "sns.heatmap(conf_mat1 / conf_mat1.sum(axis=1))\n"
   ]
  },
  {
   "cell_type": "code",
   "execution_count": 52,
   "metadata": {},
   "outputs": [
    {
     "name": "stdout",
     "output_type": "stream",
     "text": [
      "                 precision    recall  f1-score   support\n",
      "\n",
      "          cocoa       0.67      0.67      0.67        12\n",
      "          grain       0.67      0.79      0.73       105\n",
      "        veg-oil       0.50      0.30      0.37        20\n",
      "           earn       0.91      0.89      0.90       813\n",
      "            acq       0.84      0.73      0.78       474\n",
      "          wheat       0.00      0.00      0.00         5\n",
      "         copper       0.92      0.79      0.85        14\n",
      "        housing       0.25      0.33      0.29         3\n",
      "   money-supply       0.33      0.47      0.39        38\n",
      "         coffee       0.56      0.60      0.58        25\n",
      "          sugar       0.68      0.70      0.69        30\n",
      "          trade       0.45      0.48      0.47        83\n",
      "       reserves       0.21      0.23      0.22        13\n",
      "           ship       0.25      0.38      0.30        37\n",
      "         cotton       0.00      0.00      0.00         2\n",
      "        carcass       0.00      0.00      0.00         9\n",
      "          crude       0.34      0.46      0.39        99\n",
      "        nat-gas       0.08      0.17      0.11        12\n",
      "            cpi       0.50      0.40      0.44        20\n",
      "       money-fx       0.50      0.60      0.55       133\n",
      "       interest       0.38      0.24      0.30        70\n",
      "            gnp       0.41      0.33      0.37        27\n",
      "      meal-feed       0.00      0.00      0.00         7\n",
      "           alum       0.22      0.33      0.27        12\n",
      "        oilseed       0.44      0.42      0.43        19\n",
      "           gold       0.61      0.35      0.45        31\n",
      "            tin       1.00      0.25      0.40         8\n",
      "strategic-metal       0.50      0.25      0.33         4\n",
      "      livestock       0.11      0.20      0.14        10\n",
      "         retail       0.20      0.25      0.22         4\n",
      "            ipi       0.50      0.25      0.33        12\n",
      "     iron-steel       0.27      0.23      0.25        13\n",
      "         rubber       0.57      0.40      0.47        10\n",
      "           heat       0.62      1.00      0.77         5\n",
      "           jobs       0.33      0.14      0.20         7\n",
      "            lei       1.00      0.17      0.29         6\n",
      "            bop       0.27      0.36      0.31        11\n",
      "           zinc       0.00      0.00      0.00         2\n",
      "         orange       0.00      0.00      0.00         3\n",
      "       pet-chem       0.00      0.00      0.00         5\n",
      "            dlr       0.20      0.20      0.20        10\n",
      "            gas       0.15      0.25      0.19         8\n",
      "         silver       0.00      0.00      0.00         3\n",
      "            wpi       0.50      0.67      0.57         6\n",
      "            hog       0.80      0.80      0.80         5\n",
      "           lead       0.50      1.00      0.67         1\n",
      "\n",
      "       accuracy                           0.68      2246\n",
      "      macro avg       0.40      0.37      0.36      2246\n",
      "   weighted avg       0.70      0.68      0.68      2246\n",
      "\n"
     ]
    }
   ],
   "source": [
    "from sklearn.metrics import classification_report\n",
    "# classification 결과 리포팅\n",
    "from sklearn.metrics import classification_report\n",
    "print( classification_report(test_onehot_topic.argmax(axis=1), model.predict(test_cut_bow_text2).argmax(axis=1), target_names=raw_labels) )"
   ]
  },
  {
   "cell_type": "code",
   "execution_count": 53,
   "metadata": {},
   "outputs": [],
   "source": [
    "model.save('./nespaer.h5')"
   ]
  },
  {
   "cell_type": "code",
   "execution_count": 82,
   "metadata": {},
   "outputs": [
    {
     "ename": "AttributeError",
     "evalue": "'numpy.ndarray' object has no attribute 'test_onehot_topic'",
     "output_type": "error",
     "traceback": [
      "\u001b[0;31m---------------------------------------------------------------------------\u001b[0m",
      "\u001b[0;31mAttributeError\u001b[0m                            Traceback (most recent call last)",
      "\u001b[0;32m<ipython-input-82-ffd04f0a04ff>\u001b[0m in \u001b[0;36m<module>\u001b[0;34m\u001b[0m\n\u001b[0;32m----> 1\u001b[0;31m \u001b[0mloss\u001b[0m\u001b[0;34m,\u001b[0m \u001b[0macc\u001b[0m \u001b[0;34m=\u001b[0m \u001b[0mmodel\u001b[0m\u001b[0;34m.\u001b[0m\u001b[0mevaluate\u001b[0m\u001b[0;34m(\u001b[0m\u001b[0mtest_cut_bow_text2\u001b[0m\u001b[0;34m.\u001b[0m\u001b[0mtest_onehot_topic\u001b[0m\u001b[0;34m,\u001b[0m \u001b[0mverbose\u001b[0m\u001b[0;34m=\u001b[0m\u001b[0;36m1\u001b[0m\u001b[0;34m)\u001b[0m\u001b[0;34m\u001b[0m\u001b[0;34m\u001b[0m\u001b[0m\n\u001b[0m\u001b[1;32m      2\u001b[0m \u001b[0mprint\u001b[0m\u001b[0;34m(\u001b[0m\u001b[0mloss\u001b[0m\u001b[0;34m,\u001b[0m \u001b[0macc\u001b[0m\u001b[0;34m)\u001b[0m\u001b[0;34m\u001b[0m\u001b[0;34m\u001b[0m\u001b[0m\n",
      "\u001b[0;31mAttributeError\u001b[0m: 'numpy.ndarray' object has no attribute 'test_onehot_topic'"
     ]
    }
   ],
   "source": [
    "loss, acc = model.evaluate(test_cut_bow_text2.test_onehot_topic, verbose=1)\n",
    "print(loss, acc)"
   ]
  },
  {
   "cell_type": "code",
   "execution_count": null,
   "metadata": {},
   "outputs": [],
   "source": []
  }
 ],
 "metadata": {
  "kernelspec": {
   "display_name": "aiffel",
   "language": "python",
   "name": "aiffel"
  },
  "language_info": {
   "codemirror_mode": {
    "name": "ipython",
    "version": 3
   },
   "file_extension": ".py",
   "mimetype": "text/x-python",
   "name": "python",
   "nbconvert_exporter": "python",
   "pygments_lexer": "ipython3",
   "version": "3.7.9"
  }
 },
 "nbformat": 4,
 "nbformat_minor": 4
}
